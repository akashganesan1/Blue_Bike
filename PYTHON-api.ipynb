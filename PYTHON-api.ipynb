{
 "cells": [
  {
   "cell_type": "code",
   "execution_count": null,
   "metadata": {},
   "outputs": [],
   "source": [
    "from kafka import KafkaProducer\n",
    "import csv\n",
    "\n",
    "# Kafka configuration\n",
    "broker_list = 'ec2-54-234-230-26.compute-1.amazonaws.com:9092'  # Your broker list\n",
    "topic_name = 'test2'  # Your topic name\n",
    "\n",
    "# Create a Kafka producer\n",
    "producer = KafkaProducer(bootstrap_servers=[broker_list],\n",
    "                         value_serializer=lambda x: x.encode('utf-8'))\n",
    "\n",
    "# Path to your CSV file\n",
    "csv_file_path = r'C:\\Users\\mraka\\Desktop\\Github\\bulebike\\Blue_Bike\\202401-bluebikes-tripdata.csv'\n",
    "\n",
    "# Read and send each row of the CSV file\n",
    "with open(csv_file_path, newline='') as csvfile:\n",
    "    csv_reader = csv.reader(csvfile, delimiter=',')\n",
    "    next(csv_reader, None)  # Skip the header row if there is one\n",
    "    for row in csv_reader:\n",
    "        message = ','.join(row)\n",
    "        producer.send(topic_name, value=message)\n",
    "        producer.flush()  # Ensure all messages are sent\n",
    "\n",
    "print(\"All rows have been sent to Kafka.\")\n",
    "\n",
    "# Close the producer\n",
    "producer.close()\n"
   ]
  }
 ],
 "metadata": {
  "language_info": {
   "name": "python"
  }
 },
 "nbformat": 4,
 "nbformat_minor": 2
}
